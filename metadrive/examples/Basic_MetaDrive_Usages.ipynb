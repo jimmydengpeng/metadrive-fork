{
 "cells": [
  {
   "attachments": {},
   "cell_type": "markdown",
   "metadata": {
    "id": "J1w-zrxAUr4l",
    "pycharm": {
     "name": "#%% md\n"
    }
   },
   "source": [
    "# Quick Start Tutorial of the basic functionality of MetaDrive\n",
    "\n",
    "Welcome to try out MetaDrive!\n",
    "\n",
    "MetaDrive v0.2.5 supports two running modes:\n",
    "\n",
    "1. **With 3D rendering functionality**: MetaDrive can easily install and run in personal computer, but may need special treatments for 3D rendering in headless machine and cloud servers.\n",
    "\n",
    "2. **Without 3D rendering functionality**: MetaDrive can easily install and run in any machine. In this Colab notebook, we demonstrate MetaDrive in this mode and the renderer will be the **2D** **Pygame** renderer.\n",
    "\n",
    "In this tutorial, we will navigate you through the installation and some basic functionality of MetaDrive!"
   ]
  },
  {
   "attachments": {},
   "cell_type": "markdown",
   "metadata": {
    "id": "2efvTXdHVptN",
    "pycharm": {
     "name": "#%% md\n"
    }
   },
   "source": [
    "## Installation\n",
    "\n",
    "You can install MetaDrive easily."
   ]
  },
  {
   "cell_type": "code",
   "execution_count": null,
   "metadata": {
    "colab": {
     "base_uri": "https://localhost:8080/",
     "height": 1000
    },
    "id": "65J2iQKpUQ1B",
    "outputId": "60411b22-c699-4db0-bf23-13b4c83c4d4f",
    "pycharm": {
     "name": "#%%\n"
    },
    "scrolled": true
   },
   "outputs": [],
   "source": [
    "#@title Collect the MetaDrive\n",
    "\n",
    "%pip install git+https://github.com/metadriverse/metadrive.git"
   ]
  },
  {
   "cell_type": "code",
   "execution_count": 1,
   "metadata": {},
   "outputs": [
    {
     "name": "stdout",
     "output_type": "stream",
     "text": [
      "Successfully registered the following environments: ['MetaDrive-validation-v0', 'MetaDrive-10env-v0', 'MetaDrive-100envs-v0', 'MetaDrive-1000envs-v0', 'SafeMetaDrive-validation-v0', 'SafeMetaDrive-10env-v0', 'SafeMetaDrive-100envs-v0', 'SafeMetaDrive-1000envs-v0', 'MARLTollgate-v0', 'MARLBottleneck-v0', 'MARLRoundabout-v0', 'MARLIntersection-v0', 'MARLParkingLot-v0', 'MARLMetaDrive-v0'].\n",
      "\n",
      "The action space: Box(-1.0, 1.0, (2,), float32)\n",
      "\n",
      "The observation space: Box(-0.0, 1.0, (259,), float32)\n",
      "\n",
      "Successfully run MetaDrive\n"
     ]
    }
   ],
   "source": [
    "# @title Test Installation\n",
    "from metadrive import MetaDriveEnv\n",
    "from metadrive.examples import expert\n",
    "\n",
    "env = MetaDriveEnv()\n",
    "print(\"\\nThe action space: {}\".format(env.action_space))\n",
    "print(\"\\nThe observation space: {}\\n\".format(env.observation_space))\n",
    "try:\n",
    "    env.reset()\n",
    "    for i in range(100):\n",
    "        env.step(env.action_space.sample())\n",
    "    print(\"Successfully run MetaDrive\")\n",
    "except:\n",
    "    print(\"Fail to run MetaDrive!\")\n",
    "finally:\n",
    "    env.close()\n",
    "\n"
   ]
  },
  {
   "attachments": {},
   "cell_type": "markdown",
   "metadata": {
    "id": "QhteKnQ5kqEg",
    "pycharm": {
     "name": "#%% md\n"
    }
   },
   "source": [
    "## Basic Functionality"
   ]
  },
  {
   "cell_type": "code",
   "execution_count": null,
   "metadata": {
    "colab": {
     "base_uri": "https://localhost:8080/",
     "height": 1000
    },
    "id": "898SwWaHkqEg",
    "outputId": "c4ac3dc2-e7c4-40c9-ab40-8f6890476469",
    "pycharm": {
     "name": "#%%\n"
    }
   },
   "outputs": [],
   "source": [
    "# @title A minimalist example of using MetaDrive with the built-in PPO expert policy\n",
    "\n",
    "# import os\n",
    "# os.environ['SDL_VIDEODRIVER']='dummy'\n",
    "# # Note: this step is only for cheating Colab\n",
    "\n",
    "from metadrive import MetaDriveEnv\n",
    "from metadrive.examples import expert\n",
    "\n",
    "# Set the envrionment config\n",
    "config = {\"start_seed\": 1000, \n",
    "          \"environment_num\":1,\n",
    "          \"traffic_density\":0.1,\n",
    "          \"render_mode\": \"top_down\", \n",
    "          }\n",
    "\n",
    "env = MetaDriveEnv(config)\n",
    "\n",
    "print(\"Starting the environment ...\\n\")\n",
    "\n",
    "ep_reward = 0.0\n",
    "obs, info = env.reset()\n",
    "frames = []\n",
    "for i in range(1000):\n",
    "    obs, reward, terminated, truncated, info = env.step(expert(env.vehicle))\n",
    "    ep_reward += reward\n",
    "    frame = env.render(film_size=(800, 800), track_target_vehicle=True, screen_size=(500, 500))\n",
    "    frames.append(frame)\n",
    "    if terminated or truncated:\n",
    "        print(\"Arriving Destination: {}\".format(info[\"arrive_dest\"]))\n",
    "        print(\"\\nEpisode reward: \", ep_reward)\n",
    "        break\n",
    "\n",
    "print(\"\\nThe last returned information: {}\".format(info))\n",
    "\n",
    "env.close()\n",
    "print(\"\\nMetaDrive successfully run!\")\n",
    "\n",
    "# render image\n",
    "print(\"\\nGenerate gif...\")\n",
    "import pygame\n",
    "import numpy as np\n",
    "from PIL import Image\n",
    "\n",
    "imgs = [pygame.surfarray.array3d(frame) for frame in frames]\n",
    "imgs = [Image.fromarray(img) for img in imgs]\n",
    "imgs[0].save(\"demo.gif\", save_all=True, append_images=imgs[1:], duration=50, loop=0)\n",
    "print(\"\\nOpen gif...\")\n",
    "from IPython.display import Image\n",
    "Image(open(\"demo.gif\", 'rb').read())\n"
   ]
  },
  {
   "cell_type": "code",
   "execution_count": null,
   "metadata": {},
   "outputs": [],
   "source": [
    "# @title PPO expert policy can also drive in the safety-critical SafeMetaDrive environment\n",
    "import os\n",
    "os.environ['SDL_VIDEODRIVER']='dummy'\n",
    "# Note: this step is only for cheating Colab\n",
    "\n",
    "from metadrive import SafeMetaDriveEnv\n",
    "from metadrive.examples import expert\n",
    "\n",
    "# Set the environment config\n",
    "config = {\"start_seed\": 0, \n",
    "          \"environment_num\":1,\n",
    "          \"accident_prob\":1.0,\n",
    "          \"traffic_density\":0.25,\n",
    "          \"render_mode\": \"top_down\"\n",
    "          }\n",
    "\n",
    "env = SafeMetaDriveEnv(config)\n",
    "\n",
    "print(\"Starting the environment ...\\n\")\n",
    "\n",
    "ep_reward = 0.0\n",
    "ep_cost = 0.0\n",
    "obs, info = env.reset()\n",
    "frames = []\n",
    "for i in range(1000):\n",
    "    obs, reward, terminated, truncated, info = env.step(expert(env.vehicle))\n",
    "    ep_reward += reward\n",
    "    ep_cost += info[\"cost\"]\n",
    "    frame = env.render(film_size=(1500, 1500), track_target_vehicle=True, screen_size=(500, 500))\n",
    "    frames.append(frame)\n",
    "    if terminated or truncated:\n",
    "        print(\"Arriving Destination: {}\".format(info[\"arrive_dest\"]))\n",
    "        print(\"\\nEpisode reward: \", ep_reward)\n",
    "        print(\"\\nEpisode cost: \", ep_cost)\n",
    "        break\n",
    "\n",
    "env.close()\n",
    "print(\"\\nMetaDrive successfully run!\")\n",
    "\n",
    "# render image\n",
    "print(\"\\nGenerate gif...\")\n",
    "import pygame\n",
    "import numpy as np\n",
    "from PIL import Image\n",
    "\n",
    "imgs = [pygame.surfarray.array3d(frame) for frame in frames]\n",
    "imgs = [Image.fromarray(img) for img in imgs]\n",
    "imgs[0].save(\"demo.gif\", save_all=True, append_images=imgs[1:], duration=50, loop=0)\n",
    "print(\"\\nOpen gif...\")\n",
    "from IPython.display import Image\n",
    "Image(open(\"demo.gif\", 'rb').read())"
   ]
  },
  {
   "cell_type": "code",
   "execution_count": 1,
   "metadata": {},
   "outputs": [
    {
     "name": "stdout",
     "output_type": "stream",
     "text": [
      "Successfully registered the following environments: ['MetaDrive-validation-v0', 'MetaDrive-10env-v0', 'MetaDrive-100envs-v0', 'MetaDrive-1000envs-v0', 'SafeMetaDrive-validation-v0', 'SafeMetaDrive-10env-v0', 'SafeMetaDrive-100envs-v0', 'SafeMetaDrive-1000envs-v0', 'MARLTollgate-v0', 'MARLBottleneck-v0', 'MARLRoundabout-v0', 'MARLIntersection-v0', 'MARLParkingLot-v0', 'MARLMetaDrive-v0'].\n",
      "Starting the environment <MultiAgentRoundaboutEnv instance>\n",
      "\n"
     ]
    },
    {
     "ename": "AttributeError",
     "evalue": "'NoneType' object has no attribute 'position'",
     "output_type": "error",
     "traceback": [
      "\u001b[0;31m---------------------------------------------------------------------------\u001b[0m",
      "\u001b[0;31mAttributeError\u001b[0m                            Traceback (most recent call last)",
      "Cell \u001b[0;32mIn[1], line 29\u001b[0m\n\u001b[1;32m     27\u001b[0m         a[\u001b[39m-\u001b[39m\u001b[39m1\u001b[39m] \u001b[39m=\u001b[39m \u001b[39m1.0\u001b[39m\n\u001b[1;32m     28\u001b[0m     o,r,tm,tc,i \u001b[39m=\u001b[39m env\u001b[39m.\u001b[39mstep(action)\n\u001b[0;32m---> 29\u001b[0m     frame \u001b[39m=\u001b[39m env\u001b[39m.\u001b[39;49mrender(film_size\u001b[39m=\u001b[39;49m(\u001b[39m500\u001b[39;49m, \u001b[39m500\u001b[39;49m), track_target_vehicle\u001b[39m=\u001b[39;49m\u001b[39mFalse\u001b[39;49;00m, screen_size\u001b[39m=\u001b[39;49m(\u001b[39m500\u001b[39;49m, \u001b[39m500\u001b[39;49m))\n\u001b[1;32m     30\u001b[0m     frames\u001b[39m.\u001b[39mappend(frame)\n\u001b[1;32m     31\u001b[0m env\u001b[39m.\u001b[39mclose()\n",
      "File \u001b[0;32m~/Projects/RL/metadrive-0.3.0.1/metadrive/envs/base_env.py:360\u001b[0m, in \u001b[0;36mBaseEnv.render\u001b[0;34m(self, text, return_bytes, mode, *args, **kwargs)\u001b[0m\n\u001b[1;32m    357\u001b[0m mode \u001b[39m=\u001b[39m mode \u001b[39mor\u001b[39;00m \u001b[39mself\u001b[39m\u001b[39m.\u001b[39mconfig[\u001b[39m\"\u001b[39m\u001b[39mrender_mode\u001b[39m\u001b[39m\"\u001b[39m]  \u001b[39m# for compatibility\u001b[39;00m\n\u001b[1;32m    359\u001b[0m \u001b[39mif\u001b[39;00m mode \u001b[39min\u001b[39;00m [\u001b[39m\"\u001b[39m\u001b[39mtop_down\u001b[39m\u001b[39m\"\u001b[39m, \u001b[39m\"\u001b[39m\u001b[39mtopdown\u001b[39m\u001b[39m\"\u001b[39m, \u001b[39m\"\u001b[39m\u001b[39mbev\u001b[39m\u001b[39m\"\u001b[39m, \u001b[39m\"\u001b[39m\u001b[39mbirdview\u001b[39m\u001b[39m\"\u001b[39m]:\n\u001b[0;32m--> 360\u001b[0m     ret \u001b[39m=\u001b[39m \u001b[39mself\u001b[39;49m\u001b[39m.\u001b[39;49m_render_topdown(text\u001b[39m=\u001b[39;49mtext, \u001b[39m*\u001b[39;49margs, \u001b[39m*\u001b[39;49m\u001b[39m*\u001b[39;49mkwargs)\n\u001b[1;32m    361\u001b[0m     \u001b[39mreturn\u001b[39;00m ret\n\u001b[1;32m    362\u001b[0m \u001b[39massert\u001b[39;00m \u001b[39mself\u001b[39m\u001b[39m.\u001b[39mconfig[\u001b[39m\"\u001b[39m\u001b[39muse_render\u001b[39m\u001b[39m\"\u001b[39m] \u001b[39mor\u001b[39;00m \u001b[39mself\u001b[39m\u001b[39m.\u001b[39mengine\u001b[39m.\u001b[39mmode \u001b[39m!=\u001b[39m RENDER_MODE_NONE, \\\n\u001b[1;32m    363\u001b[0m     (\u001b[39m\"\u001b[39m\u001b[39mPanda Renderring is off now, can not render. Please set config[\u001b[39m\u001b[39m'\u001b[39m\u001b[39muse_render\u001b[39m\u001b[39m'\u001b[39m\u001b[39m] = True!\u001b[39m\u001b[39m\"\u001b[39m)\n",
      "File \u001b[0;32m~/Projects/RL/metadrive-0.3.0.1/metadrive/envs/base_env.py:605\u001b[0m, in \u001b[0;36mBaseEnv._render_topdown\u001b[0;34m(self, text, *args, **kwargs)\u001b[0m\n\u001b[1;32m    604\u001b[0m \u001b[39mdef\u001b[39;00m \u001b[39m_render_topdown\u001b[39m(\u001b[39mself\u001b[39m, text, \u001b[39m*\u001b[39margs, \u001b[39m*\u001b[39m\u001b[39m*\u001b[39mkwargs):\n\u001b[0;32m--> 605\u001b[0m     \u001b[39mreturn\u001b[39;00m \u001b[39mself\u001b[39;49m\u001b[39m.\u001b[39;49mengine\u001b[39m.\u001b[39;49mrender_topdown(text, \u001b[39m*\u001b[39;49margs, \u001b[39m*\u001b[39;49m\u001b[39m*\u001b[39;49mkwargs)\n",
      "File \u001b[0;32m~/Projects/RL/metadrive-0.3.0.1/metadrive/engine/base_engine.py:614\u001b[0m, in \u001b[0;36mBaseEngine.render_topdown\u001b[0;34m(self, text, *args, **kwargs)\u001b[0m\n\u001b[1;32m    612\u001b[0m     \u001b[39mfrom\u001b[39;00m \u001b[39mmetadrive\u001b[39;00m\u001b[39m.\u001b[39;00m\u001b[39mobs\u001b[39;00m\u001b[39m.\u001b[39;00m\u001b[39mtop_down_renderer\u001b[39;00m \u001b[39mimport\u001b[39;00m TopDownRenderer\n\u001b[1;32m    613\u001b[0m     \u001b[39mself\u001b[39m\u001b[39m.\u001b[39m_top_down_renderer \u001b[39m=\u001b[39m TopDownRenderer(\u001b[39m*\u001b[39margs, \u001b[39m*\u001b[39m\u001b[39m*\u001b[39mkwargs)\n\u001b[0;32m--> 614\u001b[0m \u001b[39mreturn\u001b[39;00m \u001b[39mself\u001b[39;49m\u001b[39m.\u001b[39;49m_top_down_renderer\u001b[39m.\u001b[39;49mrender(text, \u001b[39m*\u001b[39;49margs, \u001b[39m*\u001b[39;49m\u001b[39m*\u001b[39;49mkwargs)\n",
      "File \u001b[0;32m~/Projects/RL/metadrive-0.3.0.1/metadrive/obs/top_down_renderer.py:282\u001b[0m, in \u001b[0;36mTopDownRenderer.render\u001b[0;34m(self, text, *args, **kwargs)\u001b[0m\n\u001b[1;32m    280\u001b[0m \u001b[39mself\u001b[39m\u001b[39m.\u001b[39m_handle_event()\n\u001b[1;32m    281\u001b[0m \u001b[39mself\u001b[39m\u001b[39m.\u001b[39mrefresh()\n\u001b[0;32m--> 282\u001b[0m \u001b[39mself\u001b[39;49m\u001b[39m.\u001b[39;49m_draw(\u001b[39m*\u001b[39;49margs, \u001b[39m*\u001b[39;49m\u001b[39m*\u001b[39;49mkwargs)\n\u001b[1;32m    283\u001b[0m \u001b[39mself\u001b[39m\u001b[39m.\u001b[39m_add_text(text)\n\u001b[1;32m    284\u001b[0m \u001b[39mself\u001b[39m\u001b[39m.\u001b[39mblit()\n",
      "File \u001b[0;32m~/Projects/RL/metadrive-0.3.0.1/metadrive/obs/top_down_renderer.py:449\u001b[0m, in \u001b[0;36mTopDownRenderer._draw\u001b[0;34m(self, *args, **kwargs)\u001b[0m\n\u001b[1;32m    447\u001b[0m field \u001b[39m=\u001b[39m \u001b[39mself\u001b[39m\u001b[39m.\u001b[39m_render_canvas\u001b[39m.\u001b[39mget_size()\n\u001b[1;32m    448\u001b[0m \u001b[39mif\u001b[39;00m \u001b[39mnot\u001b[39;00m \u001b[39mself\u001b[39m\u001b[39m.\u001b[39mtarget_vehicle_heading_up:\n\u001b[0;32m--> 449\u001b[0m     cam_pos \u001b[39m=\u001b[39m v\u001b[39m.\u001b[39;49mposition \u001b[39mif\u001b[39;00m \u001b[39mself\u001b[39m\u001b[39m.\u001b[39mposition \u001b[39mis\u001b[39;00m \u001b[39mNone\u001b[39;00m \u001b[39melse\u001b[39;00m \u001b[39mself\u001b[39m\u001b[39m.\u001b[39mposition\n\u001b[1;32m    450\u001b[0m     position \u001b[39m=\u001b[39m \u001b[39mself\u001b[39m\u001b[39m.\u001b[39m_runtime_canvas\u001b[39m.\u001b[39mpos2pix(\u001b[39m*\u001b[39mcam_pos)\n\u001b[1;32m    451\u001b[0m     off \u001b[39m=\u001b[39m (position[\u001b[39m0\u001b[39m] \u001b[39m-\u001b[39m field[\u001b[39m0\u001b[39m] \u001b[39m/\u001b[39m \u001b[39m2\u001b[39m, position[\u001b[39m1\u001b[39m] \u001b[39m-\u001b[39m field[\u001b[39m1\u001b[39m] \u001b[39m/\u001b[39m \u001b[39m2\u001b[39m)\n",
      "\u001b[0;31mAttributeError\u001b[0m: 'NoneType' object has no attribute 'position'"
     ]
    },
    {
     "ename": "",
     "evalue": "",
     "output_type": "error",
     "traceback": [
      "\u001b[1;31mThe Kernel crashed while executing code in the the current cell or a previous cell. Please review the code in the cell(s) to identify a possible cause of the failure. Click <a href='https://aka.ms/vscodeJupyterKernelCrash'>here</a> for more info. View Jupyter <a href='command:jupyter.viewOutput'>log</a> for further details."
     ]
    }
   ],
   "source": [
    "# @title Multi-agent Environment Visualization\n",
    "# import os\n",
    "# os.environ['SDL_VIDEODRIVER']='dummy'\n",
    "# Note: this step is only for cheating Colab\n",
    "\n",
    "from metadrive import MultiAgentRoundaboutEnv, MultiAgentBottleneckEnv, MultiAgentIntersectionEnv, MultiAgentParkingLotEnv, MultiAgentTollgateEnv\n",
    "from metadrive.examples import expert\n",
    "\n",
    "env_classes = [MultiAgentRoundaboutEnv, \n",
    "        MultiAgentBottleneckEnv, \n",
    "        MultiAgentIntersectionEnv, \n",
    "        MultiAgentParkingLotEnv, \n",
    "        MultiAgentTollgateEnv]\n",
    "\n",
    "frames = []\n",
    "for env_class in env_classes:\n",
    "    env = env_class({\"render_mode\": \"top_down\"})\n",
    "    print(\"Starting the environment {}\\n\".format(env))\n",
    "    env.reset()\n",
    "    tm={\"__all__\":False}\n",
    "    for i in range(100):\n",
    "        if tm[\"__all__\"]:\n",
    "            frames.append(frame)\n",
    "            continue\n",
    "        action = env.action_space.sample()\n",
    "        for a in action.values(): \n",
    "            a[-1] = 1.0\n",
    "        o,r,tm,tc,i = env.step(action)\n",
    "        frame = env.render(film_size=(500, 500), track_target_vehicle=False, screen_size=(500, 500))\n",
    "        frames.append(frame)\n",
    "    env.close()\n",
    "\n",
    "# render image\n",
    "print(\"\\nGenerate gif...\")\n",
    "import pygame\n",
    "import numpy as np\n",
    "from PIL import Image\n",
    "\n",
    "imgs = [pygame.surfarray.array3d(frame) for frame in frames]\n",
    "imgs = [Image.fromarray(img) for img in imgs]\n",
    "imgs[0].save(\"demo.gif\", save_all=True, append_images=imgs[1:], duration=50, loop=0)\n",
    "print(\"\\nOpen gif...\")\n",
    "from IPython.display import Image\n",
    "Image(open(\"demo.gif\", 'rb').read())"
   ]
  },
  {
   "attachments": {},
   "cell_type": "markdown",
   "metadata": {
    "id": "ClZzNVQUkqEh",
    "pycharm": {
     "name": "#%% md\n"
    }
   },
   "source": [
    "## Map Generation"
   ]
  },
  {
   "cell_type": "code",
   "execution_count": null,
   "metadata": {
    "id": "NUawlJubkqEh",
    "pycharm": {
     "name": "#%%\n"
    }
   },
   "outputs": [],
   "source": [
    "# @title Draw the generated maps in top-down view\n",
    "\n",
    "import random\n",
    "\n",
    "import matplotlib.pyplot as plt\n",
    "from metadrive import MetaDriveEnv\n",
    "from metadrive.utils.draw_top_down_map import draw_top_down_map\n",
    "\n",
    "env = MetaDriveEnv(config=dict(\n",
    "    environment_num=100,\n",
    "    map=7,\n",
    "    start_seed=random.randint(0, 1000)\n",
    "))\n",
    "\n",
    "fig, axs = plt.subplots(4, 4, figsize=(10, 10), dpi=100)\n",
    "for i in range(4):\n",
    "    for j in range(4):\n",
    "        env.reset()\n",
    "        m = draw_top_down_map(env.current_map)\n",
    "        ax = axs[i][j]\n",
    "        ax.imshow(m, cmap=\"bone\")\n",
    "        ax.set_xticks([])\n",
    "        ax.set_yticks([])\n",
    "fig.suptitle(\"Bird's-eye view of generated maps\")\n",
    "plt.show()\n",
    "\n",
    "env.close()\n"
   ]
  },
  {
   "cell_type": "code",
   "execution_count": null,
   "metadata": {
    "id": "HyL36-nekqEh",
    "pycharm": {
     "name": "#%%\n"
    }
   },
   "outputs": [],
   "source": [
    "# @title Draw the generated maps in top-down view with fixed block sequence\n",
    "# @markdown You can also specify the road block sequence then randomize the block parameters.\n",
    "# @markdown Please refer to [documentation](https://metadrive-simulator.readthedocs.io/en/latest/env_config.html#map-config) for the meaning of the map string.\n",
    "\n",
    "import random\n",
    "\n",
    "import matplotlib.pyplot as plt\n",
    "\n",
    "from metadrive import MetaDriveEnv\n",
    "\n",
    "env = MetaDriveEnv(config=dict(\n",
    "    environment_num=100,\n",
    "    map=\"CrTRXOS\",\n",
    "    start_seed=random.randint(0, 1000)\n",
    "))\n",
    "\n",
    "fig, axs = plt.subplots(4, 4, figsize=(10, 10), dpi=100)\n",
    "for i in range(4):\n",
    "    for j in range(4):\n",
    "        env.reset()\n",
    "        m = draw_top_down_map(env.current_map)\n",
    "        ax = axs[i][j]\n",
    "        ax = axs[i][j]\n",
    "        ax.imshow(m, cmap=\"bone\")\n",
    "        ax.set_xticks([])\n",
    "        ax.set_yticks([])\n",
    "fig.suptitle(\"Bird's-eye view of generated maps\")\n",
    "plt.show()\n",
    "\n",
    "env.close()\n"
   ]
  }
 ],
 "metadata": {
  "colab": {
   "collapsed_sections": [],
   "provenance": []
  },
  "kernelspec": {
   "display_name": "Python 3 (ipykernel)",
   "language": "python",
   "name": "python3"
  },
  "language_info": {
   "codemirror_mode": {
    "name": "ipython",
    "version": 3
   },
   "file_extension": ".py",
   "mimetype": "text/x-python",
   "name": "python",
   "nbconvert_exporter": "python",
   "pygments_lexer": "ipython3",
   "version": "3.9.17"
  }
 },
 "nbformat": 4,
 "nbformat_minor": 1
}
